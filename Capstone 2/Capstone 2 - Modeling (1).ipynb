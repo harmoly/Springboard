{
 "cells": [
  {
   "cell_type": "code",
   "execution_count": 66,
   "metadata": {},
   "outputs": [],
   "source": [
    "import pandas as pd\n",
    "import numpy as np\n",
    "import matplotlib.pyplot as plt\n",
    "import os\n",
    "import seaborn as sns\n",
    "from sklearn.model_selection import train_test_split, cross_val_score\n",
    "from sklearn.metrics import accuracy_score, confusion_matrix, classification_report\n",
    "from sklearn.linear_model import LinearRegression\n",
    "from sklearn.neighbors import KNeighborsClassifier\n",
    "from sklearn.svm import SVC\n",
    "from sklearn.ensemble import RandomForestClassifier"
   ]
  },
  {
   "cell_type": "code",
   "execution_count": 2,
   "metadata": {},
   "outputs": [
    {
     "data": {
      "text/html": [
       "<div>\n",
       "<style scoped>\n",
       "    .dataframe tbody tr th:only-of-type {\n",
       "        vertical-align: middle;\n",
       "    }\n",
       "\n",
       "    .dataframe tbody tr th {\n",
       "        vertical-align: top;\n",
       "    }\n",
       "\n",
       "    .dataframe thead th {\n",
       "        text-align: right;\n",
       "    }\n",
       "</style>\n",
       "<table border=\"1\" class=\"dataframe\">\n",
       "  <thead>\n",
       "    <tr style=\"text-align: right;\">\n",
       "      <th></th>\n",
       "      <th>Major</th>\n",
       "      <th>Major_category</th>\n",
       "      <th>Grad_total</th>\n",
       "      <th>Grad_sample_size</th>\n",
       "      <th>Grad_employed</th>\n",
       "      <th>Grad_full_time_year_round</th>\n",
       "      <th>Grad_unemployed</th>\n",
       "      <th>Grad_unemployment_rate</th>\n",
       "      <th>Grad_median</th>\n",
       "      <th>Grad_P25</th>\n",
       "      <th>...</th>\n",
       "      <th>Part_time</th>\n",
       "      <th>Full_time_year_round</th>\n",
       "      <th>Unemployed</th>\n",
       "      <th>Unemployment_rate</th>\n",
       "      <th>Median</th>\n",
       "      <th>P25th</th>\n",
       "      <th>P75th</th>\n",
       "      <th>College_jobs</th>\n",
       "      <th>Non_college_jobs</th>\n",
       "      <th>Low_wage_jobs</th>\n",
       "    </tr>\n",
       "  </thead>\n",
       "  <tbody>\n",
       "    <tr>\n",
       "      <td>0</td>\n",
       "      <td>CONSTRUCTION SERVICES</td>\n",
       "      <td>Industrial Arts &amp; Consumer Services</td>\n",
       "      <td>9173</td>\n",
       "      <td>200</td>\n",
       "      <td>7098</td>\n",
       "      <td>6511</td>\n",
       "      <td>681</td>\n",
       "      <td>0.087543</td>\n",
       "      <td>75000.0</td>\n",
       "      <td>53000</td>\n",
       "      <td>...</td>\n",
       "      <td>1751</td>\n",
       "      <td>12313</td>\n",
       "      <td>1042</td>\n",
       "      <td>0.060023</td>\n",
       "      <td>50000</td>\n",
       "      <td>36000</td>\n",
       "      <td>60000</td>\n",
       "      <td>3275</td>\n",
       "      <td>5351</td>\n",
       "      <td>703</td>\n",
       "    </tr>\n",
       "    <tr>\n",
       "      <td>1</td>\n",
       "      <td>COMMERCIAL ART AND GRAPHIC DESIGN</td>\n",
       "      <td>Arts</td>\n",
       "      <td>53864</td>\n",
       "      <td>882</td>\n",
       "      <td>40492</td>\n",
       "      <td>29553</td>\n",
       "      <td>2482</td>\n",
       "      <td>0.057756</td>\n",
       "      <td>60000.0</td>\n",
       "      <td>40000</td>\n",
       "      <td>...</td>\n",
       "      <td>24387</td>\n",
       "      <td>52243</td>\n",
       "      <td>8947</td>\n",
       "      <td>0.096798</td>\n",
       "      <td>35000</td>\n",
       "      <td>25000</td>\n",
       "      <td>45000</td>\n",
       "      <td>37389</td>\n",
       "      <td>38119</td>\n",
       "      <td>14839</td>\n",
       "    </tr>\n",
       "    <tr>\n",
       "      <td>2</td>\n",
       "      <td>HOSPITALITY MANAGEMENT</td>\n",
       "      <td>Business</td>\n",
       "      <td>24417</td>\n",
       "      <td>437</td>\n",
       "      <td>18368</td>\n",
       "      <td>14784</td>\n",
       "      <td>1465</td>\n",
       "      <td>0.073867</td>\n",
       "      <td>65000.0</td>\n",
       "      <td>45000</td>\n",
       "      <td>...</td>\n",
       "      <td>7494</td>\n",
       "      <td>23106</td>\n",
       "      <td>2393</td>\n",
       "      <td>0.061169</td>\n",
       "      <td>33000</td>\n",
       "      <td>25000</td>\n",
       "      <td>42000</td>\n",
       "      <td>2325</td>\n",
       "      <td>23341</td>\n",
       "      <td>9063</td>\n",
       "    </tr>\n",
       "    <tr>\n",
       "      <td>3</td>\n",
       "      <td>COSMETOLOGY SERVICES AND CULINARY ARTS</td>\n",
       "      <td>Industrial Arts &amp; Consumer Services</td>\n",
       "      <td>5411</td>\n",
       "      <td>72</td>\n",
       "      <td>3590</td>\n",
       "      <td>2701</td>\n",
       "      <td>316</td>\n",
       "      <td>0.080901</td>\n",
       "      <td>47000.0</td>\n",
       "      <td>24500</td>\n",
       "      <td>...</td>\n",
       "      <td>2064</td>\n",
       "      <td>5949</td>\n",
       "      <td>510</td>\n",
       "      <td>0.055677</td>\n",
       "      <td>29000</td>\n",
       "      <td>20000</td>\n",
       "      <td>36000</td>\n",
       "      <td>563</td>\n",
       "      <td>7384</td>\n",
       "      <td>3163</td>\n",
       "    </tr>\n",
       "    <tr>\n",
       "      <td>4</td>\n",
       "      <td>COMMUNICATION TECHNOLOGIES</td>\n",
       "      <td>Computers &amp; Mathematics</td>\n",
       "      <td>9109</td>\n",
       "      <td>171</td>\n",
       "      <td>7512</td>\n",
       "      <td>5622</td>\n",
       "      <td>466</td>\n",
       "      <td>0.058411</td>\n",
       "      <td>57000.0</td>\n",
       "      <td>40600</td>\n",
       "      <td>...</td>\n",
       "      <td>4690</td>\n",
       "      <td>9085</td>\n",
       "      <td>2006</td>\n",
       "      <td>0.119511</td>\n",
       "      <td>35000</td>\n",
       "      <td>25000</td>\n",
       "      <td>45000</td>\n",
       "      <td>4545</td>\n",
       "      <td>8794</td>\n",
       "      <td>2495</td>\n",
       "    </tr>\n",
       "  </tbody>\n",
       "</table>\n",
       "<p>5 rows × 38 columns</p>\n",
       "</div>"
      ],
      "text/plain": [
       "                                    Major  \\\n",
       "0                   CONSTRUCTION SERVICES   \n",
       "1       COMMERCIAL ART AND GRAPHIC DESIGN   \n",
       "2                  HOSPITALITY MANAGEMENT   \n",
       "3  COSMETOLOGY SERVICES AND CULINARY ARTS   \n",
       "4              COMMUNICATION TECHNOLOGIES   \n",
       "\n",
       "                        Major_category  Grad_total  Grad_sample_size  \\\n",
       "0  Industrial Arts & Consumer Services        9173               200   \n",
       "1                                 Arts       53864               882   \n",
       "2                             Business       24417               437   \n",
       "3  Industrial Arts & Consumer Services        5411                72   \n",
       "4              Computers & Mathematics        9109               171   \n",
       "\n",
       "   Grad_employed  Grad_full_time_year_round  Grad_unemployed  \\\n",
       "0           7098                       6511              681   \n",
       "1          40492                      29553             2482   \n",
       "2          18368                      14784             1465   \n",
       "3           3590                       2701              316   \n",
       "4           7512                       5622              466   \n",
       "\n",
       "   Grad_unemployment_rate  Grad_median  Grad_P25  ...  Part_time  \\\n",
       "0                0.087543      75000.0     53000  ...       1751   \n",
       "1                0.057756      60000.0     40000  ...      24387   \n",
       "2                0.073867      65000.0     45000  ...       7494   \n",
       "3                0.080901      47000.0     24500  ...       2064   \n",
       "4                0.058411      57000.0     40600  ...       4690   \n",
       "\n",
       "   Full_time_year_round  Unemployed  Unemployment_rate  Median  P25th  P75th  \\\n",
       "0                 12313        1042           0.060023   50000  36000  60000   \n",
       "1                 52243        8947           0.096798   35000  25000  45000   \n",
       "2                 23106        2393           0.061169   33000  25000  42000   \n",
       "3                  5949         510           0.055677   29000  20000  36000   \n",
       "4                  9085        2006           0.119511   35000  25000  45000   \n",
       "\n",
       "   College_jobs  Non_college_jobs  Low_wage_jobs  \n",
       "0          3275              5351            703  \n",
       "1         37389             38119          14839  \n",
       "2          2325             23341           9063  \n",
       "3           563              7384           3163  \n",
       "4          4545              8794           2495  \n",
       "\n",
       "[5 rows x 38 columns]"
      ]
     },
     "execution_count": 2,
     "metadata": {},
     "output_type": "execute_result"
    }
   ],
   "source": [
    "majors = pd.read_csv('college_majors.csv')\n",
    "majors.drop(columns=['Unnamed: 0'], inplace=True)\n",
    "majors.head()"
   ]
  },
  {
   "cell_type": "code",
   "execution_count": 18,
   "metadata": {},
   "outputs": [
    {
     "data": {
      "text/html": [
       "<div>\n",
       "<style scoped>\n",
       "    .dataframe tbody tr th:only-of-type {\n",
       "        vertical-align: middle;\n",
       "    }\n",
       "\n",
       "    .dataframe tbody tr th {\n",
       "        vertical-align: top;\n",
       "    }\n",
       "\n",
       "    .dataframe thead th {\n",
       "        text-align: right;\n",
       "    }\n",
       "</style>\n",
       "<table border=\"1\" class=\"dataframe\">\n",
       "  <thead>\n",
       "    <tr style=\"text-align: right;\">\n",
       "      <th></th>\n",
       "      <th>Grad_median</th>\n",
       "    </tr>\n",
       "  </thead>\n",
       "  <tbody>\n",
       "    <tr>\n",
       "      <td>0</td>\n",
       "      <td>-0.105477</td>\n",
       "    </tr>\n",
       "    <tr>\n",
       "      <td>1</td>\n",
       "      <td>-0.992621</td>\n",
       "    </tr>\n",
       "    <tr>\n",
       "      <td>2</td>\n",
       "      <td>-0.696907</td>\n",
       "    </tr>\n",
       "    <tr>\n",
       "      <td>3</td>\n",
       "      <td>-1.761479</td>\n",
       "    </tr>\n",
       "    <tr>\n",
       "      <td>4</td>\n",
       "      <td>-1.170050</td>\n",
       "    </tr>\n",
       "  </tbody>\n",
       "</table>\n",
       "</div>"
      ],
      "text/plain": [
       "   Grad_median\n",
       "0    -0.105477\n",
       "1    -0.992621\n",
       "2    -0.696907\n",
       "3    -1.761479\n",
       "4    -1.170050"
      ]
     },
     "execution_count": 18,
     "metadata": {},
     "output_type": "execute_result"
    }
   ],
   "source": [
    "X = pd.read_csv('X_majors.csv')\n",
    "y = pd.read_csv('y_majors.csv', header=None)\n",
    "\n",
    "X.drop(columns=['Unnamed: 0'], inplace=True) # drop 0 col\n",
    "y.drop(columns=[0], inplace=True) # drop 0 col\n",
    "y.rename(columns={1:'Grad_median'}, inplace=True) # rename\n",
    "y.head()"
   ]
  },
  {
   "cell_type": "code",
   "execution_count": 20,
   "metadata": {},
   "outputs": [],
   "source": [
    "X_train, X_test, y_train, y_test = train_test_split(X, y, test_size=0.3, random_state=42)"
   ]
  },
  {
   "cell_type": "code",
   "execution_count": 22,
   "metadata": {},
   "outputs": [
    {
     "data": {
      "text/plain": [
       "0.9303746679549911"
      ]
     },
     "execution_count": 22,
     "metadata": {},
     "output_type": "execute_result"
    }
   ],
   "source": [
    "### LINEAR REGRESSION ###\n",
    "linreg = LinearRegression()\n",
    "linreg.fit(X_train, y_train)\n",
    "linreg.score(X_test, y_test) # R^2"
   ]
  },
  {
   "cell_type": "code",
   "execution_count": 75,
   "metadata": {},
   "outputs": [
    {
     "name": "stdout",
     "output_type": "stream",
     "text": [
      "Score:  0.75\n"
     ]
    },
    {
     "data": {
      "text/plain": [
       "(3.0, 0.0)"
      ]
     },
     "execution_count": 75,
     "metadata": {},
     "output_type": "execute_result"
    },
    {
     "data": {
      "image/png": "[encoded data removed]",
      "text/plain": [
       "<Figure size 432x288 with 2 Axes>"
      ]
     },
     "metadata": {
      "needs_background": "light"
     },
     "output_type": "display_data"
    }
   ],
   "source": [
    "### KNN ###\n",
    "knn = KNeighborsClassifier(n_neighbors=5)\n",
    "knn.fit(X_train, y_train.values.ravel().astype('int')) # make 1d array AND make sure categorical\n",
    "print('Score: ', knn.score(X_test, y_test.astype('int')))\n",
    "\n",
    "y_pred = knn.predict(X_test)\n",
    "pl = confusion_matrix(y_test.astype('int'), y_pred)\n",
    "ax = sns.heatmap(pl, annot=True, fmt='g')\n",
    "\n",
    "bottom, top = ax.get_ylim() # fix cutoff numbers\n",
    "ax.set_ylim(bottom + 0.5, top - 0.5)"
   ]
  },
  {
   "cell_type": "code",
   "execution_count": 52,
   "metadata": {},
   "outputs": [
    {
     "name": "stdout",
     "output_type": "stream",
     "text": [
      "              precision    recall  f1-score   support\n",
      "\n",
      "          -1       0.33      0.12      0.18         8\n",
      "           0       0.73      0.94      0.82        32\n",
      "           1       1.00      0.67      0.80        12\n",
      "\n",
      "    accuracy                           0.75        52\n",
      "   macro avg       0.69      0.58      0.60        52\n",
      "weighted avg       0.73      0.75      0.72        52\n",
      "\n"
     ]
    }
   ],
   "source": [
    "print(classification_report(y_test.astype('int'), y_pred))"
   ]
  },
  {
   "cell_type": "code",
   "execution_count": 60,
   "metadata": {},
   "outputs": [
    {
     "name": "stdout",
     "output_type": "stream",
     "text": [
      "Score:  0.6153846153846154\n",
      "[[ 0  8  0]\n",
      " [ 0 32  0]\n",
      " [ 0 12  0]]\n"
     ]
    },
    {
     "name": "stderr",
     "output_type": "stream",
     "text": [
      "/Users/harmonypoore/opt/anaconda3/lib/python3.7/site-packages/sklearn/svm/base.py:193: FutureWarning: The default value of gamma will change from 'auto' to 'scale' in version 0.22 to account better for unscaled features. Set gamma explicitly to 'auto' or 'scale' to avoid this warning.\n",
      "  \"avoid this warning.\", FutureWarning)\n"
     ]
    }
   ],
   "source": [
    "### SUPPORT VECTOR MACHINE ###\n",
    "svm = SVC()\n",
    "svm.fit(X_train, y_train.values.ravel().astype('int'))\n",
    "print('Score: ', svm.score(X_test, y_test.astype('int'))) # mean accuracy\n",
    "\n",
    "y_pred = svm.predict(X_test)\n",
    "print(confusion_matrix(y_test.astype('int'), y_pred))"
   ]
  },
  {
   "cell_type": "code",
   "execution_count": 61,
   "metadata": {},
   "outputs": [
    {
     "name": "stdout",
     "output_type": "stream",
     "text": [
      "              precision    recall  f1-score   support\n",
      "\n",
      "          -1       0.00      0.00      0.00         8\n",
      "           0       0.62      1.00      0.76        32\n",
      "           1       0.00      0.00      0.00        12\n",
      "\n",
      "    accuracy                           0.62        52\n",
      "   macro avg       0.21      0.33      0.25        52\n",
      "weighted avg       0.38      0.62      0.47        52\n",
      "\n"
     ]
    },
    {
     "name": "stderr",
     "output_type": "stream",
     "text": [
      "/Users/harmonypoore/opt/anaconda3/lib/python3.7/site-packages/sklearn/metrics/classification.py:1437: UndefinedMetricWarning: Precision and F-score are ill-defined and being set to 0.0 in labels with no predicted samples.\n",
      "  'precision', 'predicted', average, warn_for)\n"
     ]
    }
   ],
   "source": [
    "print(classification_report(y_test.astype('int'), y_pred))"
   ]
  },
  {
   "cell_type": "code",
   "execution_count": 71,
   "metadata": {},
   "outputs": [
    {
     "name": "stdout",
     "output_type": "stream",
     "text": [
      "Score:  0.8846153846153846\n",
      "[0.75       0.83333333 0.7        1.         0.77777778] Mean:  0.8122222222222222\n"
     ]
    },
    {
     "name": "stderr",
     "output_type": "stream",
     "text": [
      "/Users/harmonypoore/opt/anaconda3/lib/python3.7/site-packages/sklearn/ensemble/forest.py:245: FutureWarning: The default value of n_estimators will change from 10 in version 0.20 to 100 in 0.22.\n",
      "  \"10 in version 0.20 to 100 in 0.22.\", FutureWarning)\n"
     ]
    }
   ],
   "source": [
    "### RANDOM FOREST ###\n",
    "rf = RandomForestClassifier()\n",
    "rf.fit(X_train, y_train.values.ravel().astype('int'))\n",
    "\n",
    "print('Score: ', rf.score(X_test, y_test.astype('int')))\n",
    "cvs = cross_val_score(rf, X_test, y_test.values.ravel().astype('int'), cv=5)\n",
    "print(cvs, 'Mean: ', cvs.mean())"
   ]
  },
  {
   "cell_type": "code",
   "execution_count": null,
   "metadata": {},
   "outputs": [],
   "source": []
  }
 ],
 "metadata": {
  "kernelspec": {
   "display_name": "Python 3",
   "language": "python",
   "name": "python3"
  },
  "language_info": {
   "codemirror_mode": {
    "name": "ipython",
    "version": 3
   },
   "file_extension": ".py",
   "mimetype": "text/x-python",
   "name": "python",
   "nbconvert_exporter": "python",
   "pygments_lexer": "ipython3",
   "version": "3.7.4"
  }
 },
 "nbformat": 4,
 "nbformat_minor": 2
}
