{
 "cells": [
  {
   "cell_type": "code",
   "execution_count": 346,
   "metadata": {},
   "outputs": [],
   "source": [
    "import pandas as pd\n",
    "import numpy as np\n",
    "import matplotlib.pyplot as plt\n",
    "import os\n",
    "import seaborn as sns\n",
    "from sklearn.model_selection import train_test_split, cross_val_score\n",
    "from sklearn.metrics import accuracy_score, confusion_matrix, classification_report\n",
    "from sklearn.linear_model import LinearRegression\n",
    "from sklearn.ensemble import RandomForestRegressor\n",
    "from sklearn.decomposition import PCA"
   ]
  },
  {
   "cell_type": "code",
   "execution_count": 347,
   "metadata": {},
   "outputs": [
    {
     "data": {
      "text/html": [
       "<div>\n",
       "<style scoped>\n",
       "    .dataframe tbody tr th:only-of-type {\n",
       "        vertical-align: middle;\n",
       "    }\n",
       "\n",
       "    .dataframe tbody tr th {\n",
       "        vertical-align: top;\n",
       "    }\n",
       "\n",
       "    .dataframe thead th {\n",
       "        text-align: right;\n",
       "    }\n",
       "</style>\n",
       "<table border=\"1\" class=\"dataframe\">\n",
       "  <thead>\n",
       "    <tr style=\"text-align: right;\">\n",
       "      <th></th>\n",
       "      <th>Major</th>\n",
       "      <th>Major_category</th>\n",
       "      <th>Grad_total</th>\n",
       "      <th>Grad_unemployment_rate</th>\n",
       "      <th>Grad_median</th>\n",
       "      <th>Nongrad_unemployment_rate</th>\n",
       "      <th>Grad_share</th>\n",
       "      <th>Grad_premium</th>\n",
       "      <th>ShareWomen</th>\n",
       "      <th>Unemployment_rate</th>\n",
       "      <th>Median</th>\n",
       "      <th>College_jobs</th>\n",
       "    </tr>\n",
       "  </thead>\n",
       "  <tbody>\n",
       "    <tr>\n",
       "      <th>0</th>\n",
       "      <td>CONSTRUCTION SERVICES</td>\n",
       "      <td>Industrial Arts &amp; Consumer Services</td>\n",
       "      <td>9173</td>\n",
       "      <td>0.087543</td>\n",
       "      <td>75000.0</td>\n",
       "      <td>0.050661</td>\n",
       "      <td>0.096320</td>\n",
       "      <td>0.153846</td>\n",
       "      <td>0.090713</td>\n",
       "      <td>0.060023</td>\n",
       "      <td>50000</td>\n",
       "      <td>3275</td>\n",
       "    </tr>\n",
       "    <tr>\n",
       "      <th>1</th>\n",
       "      <td>COMMERCIAL ART AND GRAPHIC DESIGN</td>\n",
       "      <td>Arts</td>\n",
       "      <td>53864</td>\n",
       "      <td>0.057756</td>\n",
       "      <td>60000.0</td>\n",
       "      <td>0.068386</td>\n",
       "      <td>0.104420</td>\n",
       "      <td>0.250000</td>\n",
       "      <td>0.690365</td>\n",
       "      <td>0.096798</td>\n",
       "      <td>35000</td>\n",
       "      <td>37389</td>\n",
       "    </tr>\n",
       "    <tr>\n",
       "      <th>2</th>\n",
       "      <td>HOSPITALITY MANAGEMENT</td>\n",
       "      <td>Business</td>\n",
       "      <td>24417</td>\n",
       "      <td>0.073867</td>\n",
       "      <td>65000.0</td>\n",
       "      <td>0.048423</td>\n",
       "      <td>0.119837</td>\n",
       "      <td>0.300000</td>\n",
       "      <td>0.651660</td>\n",
       "      <td>0.061169</td>\n",
       "      <td>33000</td>\n",
       "      <td>2325</td>\n",
       "    </tr>\n",
       "    <tr>\n",
       "      <th>3</th>\n",
       "      <td>COSMETOLOGY SERVICES AND CULINARY ARTS</td>\n",
       "      <td>Industrial Arts &amp; Consumer Services</td>\n",
       "      <td>5411</td>\n",
       "      <td>0.080901</td>\n",
       "      <td>47000.0</td>\n",
       "      <td>0.052900</td>\n",
       "      <td>0.125878</td>\n",
       "      <td>0.129808</td>\n",
       "      <td>0.584776</td>\n",
       "      <td>0.055677</td>\n",
       "      <td>29000</td>\n",
       "      <td>563</td>\n",
       "    </tr>\n",
       "    <tr>\n",
       "      <th>4</th>\n",
       "      <td>COMMUNICATION TECHNOLOGIES</td>\n",
       "      <td>Computers &amp; Mathematics</td>\n",
       "      <td>9109</td>\n",
       "      <td>0.058411</td>\n",
       "      <td>57000.0</td>\n",
       "      <td>0.072800</td>\n",
       "      <td>0.144753</td>\n",
       "      <td>0.096154</td>\n",
       "      <td>0.366177</td>\n",
       "      <td>0.119511</td>\n",
       "      <td>35000</td>\n",
       "      <td>4545</td>\n",
       "    </tr>\n",
       "  </tbody>\n",
       "</table>\n",
       "</div>"
      ],
      "text/plain": [
       "                                    Major  \\\n",
       "0                   CONSTRUCTION SERVICES   \n",
       "1       COMMERCIAL ART AND GRAPHIC DESIGN   \n",
       "2                  HOSPITALITY MANAGEMENT   \n",
       "3  COSMETOLOGY SERVICES AND CULINARY ARTS   \n",
       "4              COMMUNICATION TECHNOLOGIES   \n",
       "\n",
       "                        Major_category  Grad_total  Grad_unemployment_rate  \\\n",
       "0  Industrial Arts & Consumer Services        9173                0.087543   \n",
       "1                                 Arts       53864                0.057756   \n",
       "2                             Business       24417                0.073867   \n",
       "3  Industrial Arts & Consumer Services        5411                0.080901   \n",
       "4              Computers & Mathematics        9109                0.058411   \n",
       "\n",
       "   Grad_median  Nongrad_unemployment_rate  Grad_share  Grad_premium  \\\n",
       "0      75000.0                   0.050661    0.096320      0.153846   \n",
       "1      60000.0                   0.068386    0.104420      0.250000   \n",
       "2      65000.0                   0.048423    0.119837      0.300000   \n",
       "3      47000.0                   0.052900    0.125878      0.129808   \n",
       "4      57000.0                   0.072800    0.144753      0.096154   \n",
       "\n",
       "   ShareWomen  Unemployment_rate  Median  College_jobs  \n",
       "0    0.090713           0.060023   50000          3275  \n",
       "1    0.690365           0.096798   35000         37389  \n",
       "2    0.651660           0.061169   33000          2325  \n",
       "3    0.584776           0.055677   29000           563  \n",
       "4    0.366177           0.119511   35000          4545  "
      ]
     },
     "execution_count": 347,
     "metadata": {},
     "output_type": "execute_result"
    }
   ],
   "source": [
    "majors = pd.read_csv('college_majors1.csv')\n",
    "majors.drop(columns=['Unnamed: 0'], inplace=True)\n",
    "majors.head()"
   ]
  },
  {
   "cell_type": "code",
   "execution_count": 348,
   "metadata": {},
   "outputs": [
    {
     "data": {
      "text/html": [
       "<div>\n",
       "<style scoped>\n",
       "    .dataframe tbody tr th:only-of-type {\n",
       "        vertical-align: middle;\n",
       "    }\n",
       "\n",
       "    .dataframe tbody tr th {\n",
       "        vertical-align: top;\n",
       "    }\n",
       "\n",
       "    .dataframe thead th {\n",
       "        text-align: right;\n",
       "    }\n",
       "</style>\n",
       "<table border=\"1\" class=\"dataframe\">\n",
       "  <thead>\n",
       "    <tr style=\"text-align: right;\">\n",
       "      <th></th>\n",
       "      <th>Grad_median</th>\n",
       "    </tr>\n",
       "  </thead>\n",
       "  <tbody>\n",
       "    <tr>\n",
       "      <th>1</th>\n",
       "      <td>0.3181818181818181</td>\n",
       "    </tr>\n",
       "    <tr>\n",
       "      <th>2</th>\n",
       "      <td>0.1477272727272727</td>\n",
       "    </tr>\n",
       "    <tr>\n",
       "      <th>3</th>\n",
       "      <td>0.20454545454545459</td>\n",
       "    </tr>\n",
       "    <tr>\n",
       "      <th>4</th>\n",
       "      <td>0.0</td>\n",
       "    </tr>\n",
       "    <tr>\n",
       "      <th>5</th>\n",
       "      <td>0.11363636363636365</td>\n",
       "    </tr>\n",
       "  </tbody>\n",
       "</table>\n",
       "</div>"
      ],
      "text/plain": [
       "           Grad_median\n",
       "1   0.3181818181818181\n",
       "2   0.1477272727272727\n",
       "3  0.20454545454545459\n",
       "4                  0.0\n",
       "5  0.11363636363636365"
      ]
     },
     "execution_count": 348,
     "metadata": {},
     "output_type": "execute_result"
    }
   ],
   "source": [
    "X = pd.read_csv('X_majors.csv')\n",
    "y = pd.read_csv('y_majors.csv', header=None)\n",
    "\n",
    "X.drop(columns=['Unnamed: 0'], inplace=True) # drop 0 col\n",
    "y.drop(columns=[0], inplace=True) # drop 0 col\n",
    "y.rename(columns={1:'Grad_median'}, inplace=True) # rename\n",
    "y.drop([0], inplace=True)\n",
    "y.head()"
   ]
  },
  {
   "cell_type": "code",
   "execution_count": 349,
   "metadata": {},
   "outputs": [
    {
     "name": "stdout",
     "output_type": "stream",
     "text": [
      "(172, 25) (172, 1)\n"
     ]
    }
   ],
   "source": [
    "print(X.shape, y.shape)"
   ]
  },
  {
   "cell_type": "code",
   "execution_count": 350,
   "metadata": {},
   "outputs": [],
   "source": [
    "X_train, X_test, y_train, y_test = train_test_split(X, y, test_size=0.3, random_state=42)"
   ]
  },
  {
   "cell_type": "code",
   "execution_count": 351,
   "metadata": {},
   "outputs": [
    {
     "data": {
      "text/plain": [
       "0.7902847984975703"
      ]
     },
     "execution_count": 351,
     "metadata": {},
     "output_type": "execute_result"
    }
   ],
   "source": [
    "### LINEAR REGRESSION ###\n",
    "linreg = LinearRegression()\n",
    "linreg.fit(X_train, y_train)\n",
    "linreg.score(X_test, y_test) # R^2"
   ]
  },
  {
   "cell_type": "code",
   "execution_count": 352,
   "metadata": {},
   "outputs": [],
   "source": [
    "pred = linreg.predict(X_test)\n",
    "pred = [item for sublist in pred for item in sublist] # list of floats"
   ]
  },
  {
   "cell_type": "code",
   "execution_count": 353,
   "metadata": {},
   "outputs": [],
   "source": [
    "y_test = list(y_test['Grad_median'])\n",
    "y_test = [float(item) for item in y_test] # list of floats"
   ]
  },
  {
   "cell_type": "code",
   "execution_count": 354,
   "metadata": {},
   "outputs": [
    {
     "data": {
      "text/plain": [
       "Text(0, 0.5, 'Predicted')"
      ]
     },
     "execution_count": 354,
     "metadata": {},
     "output_type": "execute_result"
    },
    {
     "data": {
      "image/png": "[encoded data removed]",
      "text/plain": [
       "<Figure size 432x288 with 1 Axes>"
      ]
     },
     "metadata": {
      "needs_background": "light"
     },
     "output_type": "display_data"
    }
   ],
   "source": [
    "# Plot Performance of Predictions\n",
    "x = np.linspace(0, 0.7)\n",
    "y = x\n",
    "plt.plot(x, y, 'r')\n",
    "\n",
    "plt.scatter(y_test, pred)\n",
    "plt.xlabel('Actual')\n",
    "plt.ylabel('Predicted')"
   ]
  },
  {
   "cell_type": "code",
   "execution_count": 355,
   "metadata": {},
   "outputs": [
    {
     "data": {
      "text/plain": [
       "<statsmodels.regression.linear_model.RegressionResultsWrapper at 0x7ff8ccab79d0>"
      ]
     },
     "execution_count": 355,
     "metadata": {},
     "output_type": "execute_result"
    }
   ],
   "source": [
    "import statsmodels.api as sm\n",
    "y_train['Grad_median'] = y_train['Grad_median'].astype('float')\n",
    "model = sm.OLS(y_train.values.reshape(-1,1),X_train)\n",
    "model.fit()"
   ]
  },
  {
   "cell_type": "code",
   "execution_count": 356,
   "metadata": {},
   "outputs": [
    {
     "data": {
      "text/html": [
       "<table class=\"simpletable\">\n",
       "<caption>OLS Regression Results</caption>\n",
       "<tr>\n",
       "  <th>Dep. Variable:</th>            <td>y</td>        <th>  R-squared:         </th> <td>   0.857</td>\n",
       "</tr>\n",
       "<tr>\n",
       "  <th>Model:</th>                   <td>OLS</td>       <th>  Adj. R-squared:    </th> <td>   0.821</td>\n",
       "</tr>\n",
       "<tr>\n",
       "  <th>Method:</th>             <td>Least Squares</td>  <th>  F-statistic:       </th> <td>   23.80</td>\n",
       "</tr>\n",
       "<tr>\n",
       "  <th>Date:</th>             <td>Tue, 19 Oct 2021</td> <th>  Prob (F-statistic):</th> <td>3.21e-30</td>\n",
       "</tr>\n",
       "<tr>\n",
       "  <th>Time:</th>                 <td>22:51:07</td>     <th>  Log-Likelihood:    </th> <td>  144.19</td>\n",
       "</tr>\n",
       "<tr>\n",
       "  <th>No. Observations:</th>      <td>   120</td>      <th>  AIC:               </th> <td>  -238.4</td>\n",
       "</tr>\n",
       "<tr>\n",
       "  <th>Df Residuals:</th>          <td>    95</td>      <th>  BIC:               </th> <td>  -168.7</td>\n",
       "</tr>\n",
       "<tr>\n",
       "  <th>Df Model:</th>              <td>    24</td>      <th>                     </th>     <td> </td>   \n",
       "</tr>\n",
       "<tr>\n",
       "  <th>Covariance Type:</th>      <td>nonrobust</td>    <th>                     </th>     <td> </td>   \n",
       "</tr>\n",
       "</table>\n",
       "<table class=\"simpletable\">\n",
       "<tr>\n",
       "                           <td></td>                             <th>coef</th>     <th>std err</th>      <th>t</th>      <th>P>|t|</th>  <th>[0.025</th>    <th>0.975]</th>  \n",
       "</tr>\n",
       "<tr>\n",
       "  <th>Grad_total</th>                                         <td>    0.1204</td> <td>    0.086</td> <td>    1.407</td> <td> 0.163</td> <td>   -0.049</td> <td>    0.290</td>\n",
       "</tr>\n",
       "<tr>\n",
       "  <th>Grad_unemployment_rate</th>                             <td>    0.1046</td> <td>    0.066</td> <td>    1.580</td> <td> 0.117</td> <td>   -0.027</td> <td>    0.236</td>\n",
       "</tr>\n",
       "<tr>\n",
       "  <th>Nongrad_unemployment_rate</th>                          <td>   -0.3075</td> <td>    0.091</td> <td>   -3.395</td> <td> 0.001</td> <td>   -0.487</td> <td>   -0.128</td>\n",
       "</tr>\n",
       "<tr>\n",
       "  <th>Grad_share</th>                                         <td>    0.1898</td> <td>    0.056</td> <td>    3.419</td> <td> 0.001</td> <td>    0.080</td> <td>    0.300</td>\n",
       "</tr>\n",
       "<tr>\n",
       "  <th>Grad_premium</th>                                       <td>    0.7418</td> <td>    0.081</td> <td>    9.151</td> <td> 0.000</td> <td>    0.581</td> <td>    0.903</td>\n",
       "</tr>\n",
       "<tr>\n",
       "  <th>ShareWomen</th>                                         <td>   -0.2867</td> <td>    0.057</td> <td>   -5.037</td> <td> 0.000</td> <td>   -0.400</td> <td>   -0.174</td>\n",
       "</tr>\n",
       "<tr>\n",
       "  <th>Unemployment_rate</th>                                  <td>    0.0588</td> <td>    0.053</td> <td>    1.118</td> <td> 0.266</td> <td>   -0.046</td> <td>    0.163</td>\n",
       "</tr>\n",
       "<tr>\n",
       "  <th>Median</th>                                             <td>    0.7308</td> <td>    0.102</td> <td>    7.198</td> <td> 0.000</td> <td>    0.529</td> <td>    0.932</td>\n",
       "</tr>\n",
       "<tr>\n",
       "  <th>College_jobs</th>                                       <td>   -0.0372</td> <td>    0.111</td> <td>   -0.335</td> <td> 0.738</td> <td>   -0.257</td> <td>    0.183</td>\n",
       "</tr>\n",
       "<tr>\n",
       "  <th>Major_category_Agriculture & Natural Resources</th>     <td>    0.1284</td> <td>    0.056</td> <td>    2.303</td> <td> 0.023</td> <td>    0.018</td> <td>    0.239</td>\n",
       "</tr>\n",
       "<tr>\n",
       "  <th>Major_category_Arts</th>                                <td>    0.1188</td> <td>    0.077</td> <td>    1.553</td> <td> 0.124</td> <td>   -0.033</td> <td>    0.271</td>\n",
       "</tr>\n",
       "<tr>\n",
       "  <th>Major_category_Biology & Life Science</th>              <td>    0.1356</td> <td>    0.068</td> <td>    1.985</td> <td> 0.050</td> <td>-2.93e-05</td> <td>    0.271</td>\n",
       "</tr>\n",
       "<tr>\n",
       "  <th>Major_category_Business</th>                            <td>    0.2268</td> <td>    0.072</td> <td>    3.154</td> <td> 0.002</td> <td>    0.084</td> <td>    0.370</td>\n",
       "</tr>\n",
       "<tr>\n",
       "  <th>Major_category_Communications & Journalism</th>         <td>    0.1924</td> <td>    0.087</td> <td>    2.199</td> <td> 0.030</td> <td>    0.019</td> <td>    0.366</td>\n",
       "</tr>\n",
       "<tr>\n",
       "  <th>Major_category_Computers & Mathematics</th>             <td>    0.2399</td> <td>    0.070</td> <td>    3.437</td> <td> 0.001</td> <td>    0.101</td> <td>    0.379</td>\n",
       "</tr>\n",
       "<tr>\n",
       "  <th>Major_category_Education</th>                           <td>    0.0147</td> <td>    0.071</td> <td>    0.207</td> <td> 0.837</td> <td>   -0.126</td> <td>    0.155</td>\n",
       "</tr>\n",
       "<tr>\n",
       "  <th>Major_category_Engineering</th>                         <td>    0.2055</td> <td>    0.072</td> <td>    2.835</td> <td> 0.006</td> <td>    0.062</td> <td>    0.349</td>\n",
       "</tr>\n",
       "<tr>\n",
       "  <th>Major_category_Health</th>                              <td>    0.2682</td> <td>    0.072</td> <td>    3.721</td> <td> 0.000</td> <td>    0.125</td> <td>    0.411</td>\n",
       "</tr>\n",
       "<tr>\n",
       "  <th>Major_category_Humanities & Liberal Arts</th>           <td>    0.1543</td> <td>    0.076</td> <td>    2.039</td> <td> 0.044</td> <td>    0.004</td> <td>    0.305</td>\n",
       "</tr>\n",
       "<tr>\n",
       "  <th>Major_category_Industrial Arts & Consumer Services</th> <td>    0.0966</td> <td>    0.067</td> <td>    1.437</td> <td> 0.154</td> <td>   -0.037</td> <td>    0.230</td>\n",
       "</tr>\n",
       "<tr>\n",
       "  <th>Major_category_Interdisciplinary</th>                   <td>    0.1529</td> <td>    0.107</td> <td>    1.430</td> <td> 0.156</td> <td>   -0.059</td> <td>    0.365</td>\n",
       "</tr>\n",
       "<tr>\n",
       "  <th>Major_category_Law & Public Policy</th>                 <td>    0.1192</td> <td>    0.076</td> <td>    1.574</td> <td> 0.119</td> <td>   -0.031</td> <td>    0.270</td>\n",
       "</tr>\n",
       "<tr>\n",
       "  <th>Major_category_Physical Sciences</th>                   <td>    0.2220</td> <td>    0.067</td> <td>    3.308</td> <td> 0.001</td> <td>    0.089</td> <td>    0.355</td>\n",
       "</tr>\n",
       "<tr>\n",
       "  <th>Major_category_Psychology & Social Work</th>            <td>    0.1277</td> <td>    0.082</td> <td>    1.558</td> <td> 0.123</td> <td>   -0.035</td> <td>    0.291</td>\n",
       "</tr>\n",
       "<tr>\n",
       "  <th>Major_category_Social Science</th>                      <td>    0.1447</td> <td>    0.075</td> <td>    1.932</td> <td> 0.056</td> <td>   -0.004</td> <td>    0.293</td>\n",
       "</tr>\n",
       "</table>\n",
       "<table class=\"simpletable\">\n",
       "<tr>\n",
       "  <th>Omnibus:</th>       <td>49.117</td> <th>  Durbin-Watson:     </th> <td>   2.260</td>\n",
       "</tr>\n",
       "<tr>\n",
       "  <th>Prob(Omnibus):</th> <td> 0.000</td> <th>  Jarque-Bera (JB):  </th> <td> 249.889</td>\n",
       "</tr>\n",
       "<tr>\n",
       "  <th>Skew:</th>          <td> 1.266</td> <th>  Prob(JB):          </th> <td>5.46e-55</td>\n",
       "</tr>\n",
       "<tr>\n",
       "  <th>Kurtosis:</th>      <td> 9.600</td> <th>  Cond. No.          </th> <td>    36.1</td>\n",
       "</tr>\n",
       "</table><br/><br/>Notes:<br/>[1] Standard Errors assume that the covariance matrix of the errors is correctly specified."
      ],
      "text/plain": [
       "<class 'statsmodels.iolib.summary.Summary'>\n",
       "\"\"\"\n",
       "                            OLS Regression Results                            \n",
       "==============================================================================\n",
       "Dep. Variable:                      y   R-squared:                       0.857\n",
       "Model:                            OLS   Adj. R-squared:                  0.821\n",
       "Method:                 Least Squares   F-statistic:                     23.80\n",
       "Date:                Tue, 19 Oct 2021   Prob (F-statistic):           3.21e-30\n",
       "Time:                        22:51:07   Log-Likelihood:                 144.19\n",
       "No. Observations:                 120   AIC:                            -238.4\n",
       "Df Residuals:                      95   BIC:                            -168.7\n",
       "Df Model:                          24                                         \n",
       "Covariance Type:            nonrobust                                         \n",
       "======================================================================================================================\n",
       "                                                         coef    std err          t      P>|t|      [0.025      0.975]\n",
       "----------------------------------------------------------------------------------------------------------------------\n",
       "Grad_total                                             0.1204      0.086      1.407      0.163      -0.049       0.290\n",
       "Grad_unemployment_rate                                 0.1046      0.066      1.580      0.117      -0.027       0.236\n",
       "Nongrad_unemployment_rate                             -0.3075      0.091     -3.395      0.001      -0.487      -0.128\n",
       "Grad_share                                             0.1898      0.056      3.419      0.001       0.080       0.300\n",
       "Grad_premium                                           0.7418      0.081      9.151      0.000       0.581       0.903\n",
       "ShareWomen                                            -0.2867      0.057     -5.037      0.000      -0.400      -0.174\n",
       "Unemployment_rate                                      0.0588      0.053      1.118      0.266      -0.046       0.163\n",
       "Median                                                 0.7308      0.102      7.198      0.000       0.529       0.932\n",
       "College_jobs                                          -0.0372      0.111     -0.335      0.738      -0.257       0.183\n",
       "Major_category_Agriculture & Natural Resources         0.1284      0.056      2.303      0.023       0.018       0.239\n",
       "Major_category_Arts                                    0.1188      0.077      1.553      0.124      -0.033       0.271\n",
       "Major_category_Biology & Life Science                  0.1356      0.068      1.985      0.050   -2.93e-05       0.271\n",
       "Major_category_Business                                0.2268      0.072      3.154      0.002       0.084       0.370\n",
       "Major_category_Communications & Journalism             0.1924      0.087      2.199      0.030       0.019       0.366\n",
       "Major_category_Computers & Mathematics                 0.2399      0.070      3.437      0.001       0.101       0.379\n",
       "Major_category_Education                               0.0147      0.071      0.207      0.837      -0.126       0.155\n",
       "Major_category_Engineering                             0.2055      0.072      2.835      0.006       0.062       0.349\n",
       "Major_category_Health                                  0.2682      0.072      3.721      0.000       0.125       0.411\n",
       "Major_category_Humanities & Liberal Arts               0.1543      0.076      2.039      0.044       0.004       0.305\n",
       "Major_category_Industrial Arts & Consumer Services     0.0966      0.067      1.437      0.154      -0.037       0.230\n",
       "Major_category_Interdisciplinary                       0.1529      0.107      1.430      0.156      -0.059       0.365\n",
       "Major_category_Law & Public Policy                     0.1192      0.076      1.574      0.119      -0.031       0.270\n",
       "Major_category_Physical Sciences                       0.2220      0.067      3.308      0.001       0.089       0.355\n",
       "Major_category_Psychology & Social Work                0.1277      0.082      1.558      0.123      -0.035       0.291\n",
       "Major_category_Social Science                          0.1447      0.075      1.932      0.056      -0.004       0.293\n",
       "==============================================================================\n",
       "Omnibus:                       49.117   Durbin-Watson:                   2.260\n",
       "Prob(Omnibus):                  0.000   Jarque-Bera (JB):              249.889\n",
       "Skew:                           1.266   Prob(JB):                     5.46e-55\n",
       "Kurtosis:                       9.600   Cond. No.                         36.1\n",
       "==============================================================================\n",
       "\n",
       "Notes:\n",
       "[1] Standard Errors assume that the covariance matrix of the errors is correctly specified.\n",
       "\"\"\""
      ]
     },
     "execution_count": 356,
     "metadata": {},
     "output_type": "execute_result"
    }
   ],
   "source": [
    "model.fit().summary()"
   ]
  },
  {
   "cell_type": "code",
   "execution_count": 357,
   "metadata": {},
   "outputs": [
    {
     "name": "stderr",
     "output_type": "stream",
     "text": [
      "/Users/harmonypoore/opt/anaconda3/lib/python3.7/site-packages/ipykernel_launcher.py:3: DataConversionWarning: A column-vector y was passed when a 1d array was expected. Please change the shape of y to (n_samples,), for example using ravel().\n",
      "  This is separate from the ipykernel package so we can avoid doing imports until\n"
     ]
    },
    {
     "data": {
      "text/plain": [
       "RandomForestRegressor(random_state=0)"
      ]
     },
     "execution_count": 357,
     "metadata": {},
     "output_type": "execute_result"
    }
   ],
   "source": [
    "### RANDOM FOREST ###\n",
    "reg = RandomForestRegressor(random_state=0)\n",
    "reg.fit(X_train, y_train) "
   ]
  },
  {
   "cell_type": "code",
   "execution_count": 358,
   "metadata": {},
   "outputs": [
    {
     "name": "stdout",
     "output_type": "stream",
     "text": [
      "Score:  0.8126443247323154\n"
     ]
    }
   ],
   "source": [
    "print('Score: ', reg.score(X_test, y_test)) # R^2"
   ]
  },
  {
   "cell_type": "code",
   "execution_count": 359,
   "metadata": {},
   "outputs": [
    {
     "data": {
      "image/png": "[encoded data removed]",
      "text/plain": [
       "<Figure size 720x720 with 1 Axes>"
      ]
     },
     "metadata": {
      "needs_background": "light"
     },
     "output_type": "display_data"
    }
   ],
   "source": [
    "feature_importance = reg.feature_importances_\n",
    "# importances relative to max importance\n",
    "feature_importance = 100.0 * (feature_importance / feature_importance.max())[:20]\n",
    "sorted_idx = np.argsort(feature_importance)[:20]\n",
    "\n",
    "pos = np.arange(sorted_idx.shape[0]) + .5\n",
    "#print(pos.size)\n",
    "sorted_idx.size\n",
    "\n",
    "plt.figure(figsize=(10,10))\n",
    "plt.barh(pos, feature_importance[sorted_idx], align='center')\n",
    "plt.yticks(pos, X.columns[sorted_idx])\n",
    "plt.xlabel('Relative Importance')\n",
    "plt.title('Variable Importance')\n",
    "plt.show()"
   ]
  },
  {
   "cell_type": "code",
   "execution_count": 360,
   "metadata": {},
   "outputs": [],
   "source": [
    "y_test = pd.DataFrame(y_test) # revert back to df"
   ]
  },
  {
   "cell_type": "code",
   "execution_count": 361,
   "metadata": {},
   "outputs": [
    {
     "name": "stderr",
     "output_type": "stream",
     "text": [
      "/Users/harmonypoore/opt/anaconda3/lib/python3.7/site-packages/sklearn/base.py:484: FutureWarning: The feature names should match those that were passed during fit. Starting version 1.2, an error will be raised.\n",
      "Feature names unseen at fit time:\n",
      "- Grad_median\n",
      "Feature names seen at fit time, yet now missing:\n",
      "- College_jobs\n",
      "- Grad_premium\n",
      "- Grad_share\n",
      "- Grad_total\n",
      "- Grad_unemployment_rate\n",
      "- ...\n",
      "\n",
      "  warnings.warn(message, FutureWarning)\n",
      "/Users/harmonypoore/opt/anaconda3/lib/python3.7/site-packages/sklearn/base.py:442: UserWarning: X does not have valid feature names, but PCA was fitted with feature names\n",
      "  \"X does not have valid feature names, but\"\n"
     ]
    }
   ],
   "source": [
    "### PCR ###\n",
    "pca = PCA()\n",
    "X_tr = pca.fit(X_train)\n",
    "X_tr = pca.transform(X_train)\n",
    "X_te = pca.transform(X_test)\n",
    "\n",
    "y_tr = pca.fit(y_train.values.reshape(-1, 1))\n",
    "y_tr = pca.transform(y_train)\n",
    "y_te = pca.transform(y_test.values.reshape(-1, 1))"
   ]
  },
  {
   "cell_type": "code",
   "execution_count": 362,
   "metadata": {},
   "outputs": [
    {
     "data": {
      "text/plain": [
       "0.79028479849757"
      ]
     },
     "execution_count": 362,
     "metadata": {},
     "output_type": "execute_result"
    }
   ],
   "source": [
    "reg = LinearRegression()\n",
    "reg.fit(X_tr, y_tr)\n",
    "reg.score(X_te, y_te) # R^2"
   ]
  },
  {
   "cell_type": "code",
   "execution_count": 363,
   "metadata": {},
   "outputs": [],
   "source": [
    "y_pred = reg.predict(X_te)"
   ]
  },
  {
   "cell_type": "code",
   "execution_count": 364,
   "metadata": {},
   "outputs": [
    {
     "data": {
      "text/plain": [
       "Text(0, 0.5, 'Predicted')"
      ]
     },
     "execution_count": 364,
     "metadata": {},
     "output_type": "execute_result"
    },
    {
     "data": {
      "image/png": "[encoded data removed]",
      "text/plain": [
       "<Figure size 432x288 with 1 Axes>"
      ]
     },
     "metadata": {
      "needs_background": "light"
     },
     "output_type": "display_data"
    }
   ],
   "source": [
    "# Plot Performance of Predictions\n",
    "x = np.linspace(-0.3, 0.5)\n",
    "y = x\n",
    "plt.plot(x, y, 'r')\n",
    "\n",
    "plt.scatter(y_te, y_pred)\n",
    "plt.xlabel('Actual')\n",
    "plt.ylabel('Predicted')"
   ]
  },
  {
   "cell_type": "code",
   "execution_count": null,
   "metadata": {},
   "outputs": [],
   "source": []
  }
 ],
 "metadata": {
  "kernelspec": {
   "display_name": "Python 3",
   "language": "python",
   "name": "python3"
  },
  "language_info": {
   "codemirror_mode": {
    "name": "ipython",
    "version": 3
   },
   "file_extension": ".py",
   "mimetype": "text/x-python",
   "name": "python",
   "nbconvert_exporter": "python",
   "pygments_lexer": "ipython3",
   "version": "3.7.4"
  }
 },
 "nbformat": 4,
 "nbformat_minor": 2
}
